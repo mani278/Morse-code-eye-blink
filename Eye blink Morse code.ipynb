{
 "cells": [
  {
   "cell_type": "code",
   "execution_count": 1,
   "id": "c6b4f05c",
   "metadata": {},
   "outputs": [],
   "source": [
    "import cv2 \n",
    "import dlib\n",
    "from imutils import face_utils\n",
    "from scipy.spatial import distance"
   ]
  },
  {
   "cell_type": "code",
   "execution_count": 2,
   "id": "6bd72ea3",
   "metadata": {},
   "outputs": [],
   "source": [
    "count = 0\n",
    "close = 0\n",
    "morse_word = ''\n",
    "flag1 = False\n",
    "flag2 = False\n",
    "flag3 = False\n",
    "sentence = ''"
   ]
  },
  {
   "cell_type": "code",
   "execution_count": 3,
   "id": "13f8b498",
   "metadata": {},
   "outputs": [],
   "source": [
    "MORSE_CODE_DICT = { 'A':'.-',         'B':'-...',\n",
    "                    'C':'-.-.',       'D':'-..',          'E':'.',\n",
    "                    'F':'..-.',       'G':'--.',          'H':'....',\n",
    "                    'I':'..',         'J':'.---',         'K':'-.-',\n",
    "                    'L':'.-..',       'M':'--',           'N':'-.',\n",
    "                    'O':'---',        'P':'.--.',         'Q':'--.-',\n",
    "                    'R':'.-.',        'S':'...',          'T':'-',\n",
    "                    'U':'..-',        'V':'...-',         'W':'.--',\n",
    "                    'X':'-..-',       'Y':'-.--',         'Z':'--..',\n",
    "                    '1':'.----',      '2':'..---',        '3':'...--',\n",
    "                    '4':'....-',      '5':'.....',        '6':'-....',\n",
    "                    '7':'--...',      '8':'---..',        '9':'----.',\n",
    "                    '0':'-----',      ', ':'--..--',      '.':'.-.-.-',\n",
    "                    '?':'..--..',     '/':'-..-.',        '-':'-....-',\n",
    "                    '(':'-.--.',      ')':'-.--.-'}"
   ]
  },
  {
   "cell_type": "code",
   "execution_count": 4,
   "id": "bbe50424",
   "metadata": {},
   "outputs": [],
   "source": [
    "key_list = list(MORSE_CODE_DICT.keys())\n",
    "val_list = list(MORSE_CODE_DICT.values())"
   ]
  },
  {
   "cell_type": "raw",
   "id": "9f0e5548",
   "metadata": {},
   "source": [
    "val_list"
   ]
  },
  {
   "cell_type": "code",
   "execution_count": null,
   "id": "a66ee935",
   "metadata": {},
   "outputs": [],
   "source": []
  },
  {
   "cell_type": "code",
   "execution_count": 5,
   "id": "dd399f8e",
   "metadata": {},
   "outputs": [],
   "source": [
    "detector = dlib.get_frontal_face_detector()\n",
    "predictor = dlib.shape_predictor('shape_predictor_68_face_landmarks.dat')"
   ]
  },
  {
   "cell_type": "code",
   "execution_count": 6,
   "id": "ed24719a",
   "metadata": {},
   "outputs": [],
   "source": [
    "def eye_aspect_ratio(eye):\n",
    "    A = distance.euclidean(eye[1], eye[5])\n",
    "    B = distance.euclidean(eye[2], eye[4])\n",
    "\n",
    "    C = distance.euclidean(eye[0], eye[3])\n",
    "    eye = (A + B) / (2.0 * C)\n",
    "\n",
    "    return eye"
   ]
  },
  {
   "cell_type": "code",
   "execution_count": 7,
   "id": "6fbf1778",
   "metadata": {
    "scrolled": true
   },
   "outputs": [
    {
     "name": "stdout",
     "output_type": "stream",
     "text": [
      "-\n",
      "--\n",
      "The word is M\n",
      ".\n",
      ".-\n",
      "The word is MA\n",
      "-\n",
      "-.\n",
      "The word is MAN\n",
      ".\n",
      "..\n",
      "The word is MANI\n",
      ".\n",
      "..\n",
      "...\n",
      "....\n",
      ".....\n",
      "......\n",
      ".......\n",
      "No letter for the morse code \n"
     ]
    }
   ],
   "source": [
    "cap = cv2.VideoCapture(0)\n",
    "\n",
    "while True:\n",
    "    _, image = cap.read()\n",
    "    imgGray = cv2.cvtColor(image,cv2.COLOR_BGR2GRAY) \n",
    "    faces = detector(imgGray)\n",
    "    \n",
    "    for face in faces:\n",
    "        landmarks = predictor(imgGray,face)\n",
    "\n",
    "        landmarks = face_utils.shape_to_np(landmarks)\n",
    "\n",
    "        \n",
    "        leftEye = landmarks[42:48]\n",
    "        rightEye = landmarks[36:42]\n",
    "\n",
    "        for i in leftEye:\n",
    "            cv2.circle(image, (i), 2, (255,255,255), thickness=1)\n",
    "        for i in rightEye:\n",
    "            cv2.circle(image, (i), 2, (255,255,255), thickness=1)\n",
    "            \n",
    "        leftEye = eye_aspect_ratio(leftEye)\n",
    "        rightEye = eye_aspect_ratio(rightEye)\n",
    "\n",
    "        eye = ((leftEye + rightEye) / 2.0)\n",
    "        \n",
    "        if eye <= 0.3:\n",
    "            count += 1\n",
    "            #print('count: ',count)\n",
    "            if count >= 4:\n",
    "                close += 1\n",
    "                cv2.putText(image, \"Eye Close\", (10, 30),cv2.FONT_HERSHEY_SIMPLEX, 0.7, (0, 0, 255), 2)\n",
    "                            \n",
    "        else:\n",
    "            if close >= 15 and close < 60:\n",
    "                flag1 = True\n",
    "                count = 0\n",
    "                \n",
    "            elif close >= 60 and close <= 120:\n",
    "                flag2 = True\n",
    "                count = 0\n",
    "                \n",
    "            elif close >= 120:\n",
    "                flag3 = True\n",
    "                count = 0\n",
    "                \n",
    "                \n",
    "\n",
    "    if flag1: \n",
    "        morse_word += '.'\n",
    "        flag1 = False\n",
    "        close = 0\n",
    "        print(morse_word)\n",
    "        \n",
    "    elif flag2: \n",
    "        morse_word += '-'\n",
    "        flag2 = False\n",
    "        close = 0\n",
    "        print(morse_word)\n",
    "        \n",
    "    elif flag3 and morse_word not in val_list:\n",
    "        flag3 = False\n",
    "        close = 0\n",
    "        print('No letter for the morse code',morse_word)\n",
    "        morse_word = ''\n",
    "        \n",
    "    elif flag3: \n",
    "        position = val_list.index(morse_word)\n",
    "        sentence += key_list[position]\n",
    "        flag3 = False\n",
    "        close = 0\n",
    "        morse_word = ''\n",
    "        print('The word is',sentence)\n",
    "    \n",
    "    cv2.imshow('window', image)\n",
    "    \n",
    "    k = cv2.waitKey(1)\n",
    "    \n",
    "    if k == 27:\n",
    "        break\n",
    "        \n",
    "cap.release()\n",
    "cv2.destroyAllWindows()"
   ]
  },
  {
   "cell_type": "code",
   "execution_count": null,
   "id": "f7d9f680",
   "metadata": {},
   "outputs": [],
   "source": []
  }
 ],
 "metadata": {
  "kernelspec": {
   "display_name": "Python 3 (ipykernel)",
   "language": "python",
   "name": "python3"
  },
  "language_info": {
   "codemirror_mode": {
    "name": "ipython",
    "version": 3
   },
   "file_extension": ".py",
   "mimetype": "text/x-python",
   "name": "python",
   "nbconvert_exporter": "python",
   "pygments_lexer": "ipython3",
   "version": "3.9.13"
  }
 },
 "nbformat": 4,
 "nbformat_minor": 5
}
